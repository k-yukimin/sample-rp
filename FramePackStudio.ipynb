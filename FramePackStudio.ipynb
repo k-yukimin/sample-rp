{
  "cells": [
    {
      "cell_type": "markdown",
      "metadata": {
        "id": "view-in-github",
        "colab_type": "text"
      },
      "source": [
        "<a href=\"https://colab.research.google.com/github/k-yukimin/sample-rp/blob/main/FramePackStudio.ipynb\" target=\"_parent\"><img src=\"https://colab.research.google.com/assets/colab-badge.svg\" alt=\"Open In Colab\"/></a>"
      ]
    },
    {
      "cell_type": "markdown",
      "metadata": {
        "id": "YfC5HjEv_VtC"
      },
      "source": [
        "## -- README --\n",
        "FramePack-eichi実行手順は以下のとおり。\n",
        "1. ランタイムタイプをGPUに変更する（L4GPUがコスト効率のバランスがよくおすすめ）\n",
        "2. すべてのセルを実行する\n",
        "3. 数分待つと最後のセルをの出力に以下のリンクが表示されるのでpublic URLをクリックする\n",
        "  ```\n",
        "  * Running on local URL:  http://0.0.0.0:7860\n",
        "  * Running on public URL: https://b8177fd2d6b4849191.gradio.live\n",
        "  ```\n",
        "4. 別タブでFramePack-eichiが開くので設定を変更して動画を生成する（基本デフォルトでOKだがUse TeaCacheは無効にしたほうが良いかも）\n",
        "\n",
        "\n",
        "▼ 主要設定項目\n",
        "\n",
        "| 項目 | 意味・役割 | 推奨設定／調整ポイント |\n",
        "|---|---|---|\n",
        "| **Use TeaCache** | Transformer の中間テンソルをキャッシュして再利用し、高速化するモード。手や指の描画精度が若干落ちる場合あり。 | ✔️ 有効（高速化）<br>⛔️ 無効にすると精度重視                                                        |\n",
        "| **Seed** | 乱数シード。固定すると同じプロンプト・設定で毎回同じ結果が得られる。シード値を変えると動画がまったく別の結果に。 | `31337`（デフォルト）から好きな整数に。再現性が欲しければ固定、いろいろ試したいときはランダムに。 |\n",
        "| **Total Video Length (Seconds)** | 出力動画の長さ（秒）。長くすると計算量・VRAM 使用量が増大。 | **テスト時：** 3～5 秒<br>**本番：** 10 秒以上必要なら 10～30 秒程度。<br>最大 120 秒まで設定可能。 |\n",
        "| **Steps** | 1 セクションあたりのサンプリングステップ数。多いほど画質向上だが時間もかかる。 | デフォルト **25** 推奨。<br>画質重視なら 30～40、速度重視なら 15～20。                                              |\n",
        "| **Distilled CFG Scale** | 蒸留済みガイダンス（Distilled Guidance）の強さ。プロンプトへの追従度合いを調整。 | デフォルト **10** のまま。変更すると挙動が大きく変わるので、上級者以外はそのままがおすすめ。 |\n",
        "| **GPU Inference Preserved Memory (GB)** | モデル切り替え時に「どれだけ VRAM にテンソルを残すか」。大きくすると OOM 対策になるが、セクションの入れ替えコストが増えて遅くなる。 | デフォルト **6 GB**。<br>「Out of Memory エラー」が出るときは 8～12 GB に上げる。<br>速度優先なら 4～6 GB。 |\n",
        "| **MP4 Compression** | 出力 MP4 の品質／圧縮率。0 が無圧縮（高品質・大容量）、数値が上がるほど低品質・軽量化。 | デフォルト **16**。<br>画質重視なら **8** 以下、ファイルサイズ重視なら **20**～**30**。                                 |"
      ]
    },
    {
      "cell_type": "code",
      "execution_count": null,
      "metadata": {
        "id": "e8E2TTKQH9t-"
      },
      "outputs": [],
      "source": [
        "!git clone https://github.com/colinurbs/FramePack-Studio.git\n",
        "%cd FramePack-Studio"
      ]
    },
    {
      "cell_type": "code",
      "execution_count": null,
      "metadata": {
        "id": "jdeJ20ArH5-M"
      },
      "outputs": [],
      "source": [
        "%%bash\n",
        "# Error/Warninigが出るのでrequirements.txtの一部を書き換える\n",
        "sed -i \\\n",
        "  -e 's/^requests==.*/requests==2.32.3/' \\\n",
        "  -e 's/^pillow==.*/pillow/' \\\n",
        "  -e 's/^scipy==.*/scipy==1.14.0/' \\\n",
        "  -e 's/^numpy==.*/numpy==2.0.2/' \\\n",
        "  requirements.txt"
      ]
    },
    {
      "cell_type": "code",
      "execution_count": null,
      "metadata": {
        "id": "WCLjY5Fm_FoL"
      },
      "outputs": [],
      "source": [
        "!pip install -r requirements.txt"
      ]
    },
    {
      "cell_type": "code",
      "execution_count": null,
      "metadata": {
        "colab": {
          "background_save": true
        },
        "id": "FhyzpkgyDblV"
      },
      "outputs": [],
      "source": [
        "!python studio.py --share --server 0.0.0.0 --port 7860 --inbrowser"
      ]
    },
    {
      "cell_type": "code",
      "execution_count": null,
      "metadata": {
        "id": "CfQuuu8aD_3H"
      },
      "outputs": [],
      "source": []
    }
  ],
  "metadata": {
    "accelerator": "GPU",
    "colab": {
      "gpuType": "L4",
      "provenance": [],
      "authorship_tag": "ABX9TyNjKu5AqHrCZIcE1UOTaOTu",
      "include_colab_link": true
    },
    "kernelspec": {
      "display_name": "Python 3",
      "name": "python3"
    },
    "language_info": {
      "name": "python"
    }
  },
  "nbformat": 4,
  "nbformat_minor": 0
}